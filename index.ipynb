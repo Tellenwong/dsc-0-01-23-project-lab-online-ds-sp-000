{
 "cells": [
  {
   "cell_type": "markdown",
   "metadata": {},
   "source": [
    "# Project: Analyzing Macbeth"
   ]
  },
  {
   "cell_type": "markdown",
   "metadata": {},
   "source": [
    "## Introduction\n",
    "For our first day and first data science project, we're going to do some rudimentry analysis of Shakespeare's classic play: Macbeth! You will get practice working with lists, condtionals and dictionaries, visualizing data, and thinking analytically about data."
   ]
  },
  {
   "cell_type": "markdown",
   "metadata": {},
   "source": [
    "## Objectives\n",
    "You will be able to:\n",
    "* Show mastery of the content covered in this section"
   ]
  },
  {
   "cell_type": "markdown",
   "metadata": {},
   "source": [
    "### Getting the Data\n",
    "Here we start by importing a python package and using it to pull the transcript of Macbeth from the project Gutenberg website. We also preview a few details about what is now stored in the variable macbeth; it's a string with 119,846 characters, the first 500 of which are printed below. "
   ]
  },
  {
   "cell_type": "code",
   "execution_count": null,
   "metadata": {},
   "outputs": [],
   "source": [
    "import requests\n",
    "import pandas as pd\n",
    "import numpy as np\n",
    "import matplotlib.pyplot as plt\n",
    "\n",
    "macbeth = requests.get('http://www.gutenberg.org/cache/epub/2264/pg2264.txt').text\n",
    "\n",
    "print(type(macbeth))\n",
    "print(len(macbeth))\n",
    "print(macbeth[:500])"
   ]
  },
  {
   "cell_type": "markdown",
   "metadata": {},
   "source": [
    "### Your Task\n",
    "\n",
    "Your task is to create a bar graph of the 25 most common words in the Shakespeare's Macbeth.  \n",
    "\n",
    "\n",
    "A common python programming pattern to counting objects, produce histograms, or update statistics is to make calls to a dictionary as you iterate through a list. For example, given a list of words, you can create a dictionary to store counts and then iterate through the list of words, checking how many times each word has appeared using your dictionary, and updating the dictionary count now that you've seen that word again. The `dictionary.get()` method is very useful in doing this. Read the docstring for the dictionary.get() method and use it along with the pseudocode above to create a bar graph of the 25 most common words from the transcript of Macbeth which has been loaded into a variable 'Macbeth'. Be sure to include a title and appropriate labels for your graph."
   ]
  },
  {
   "cell_type": "code",
   "execution_count": null,
   "metadata": {},
   "outputs": [],
   "source": [
    "# Split the transcript into words\n",
    "macbeth_split = macbeth.split()\n",
    "\n",
    "# Create a dictionary\n",
    "common_words_dict = {}\n",
    "\n",
    "# Iterate through the text of Macbeth/iterate through a dictionary\n",
    "for word in macbeth_split:\n",
    "     common_words_dict[word] = common_words_dict.get(word, 0) + 1 #Starts with first key (0), and then moves to the next key with each iteration\n",
    "common_words_dict\n",
    "#making a dictionary is an easy way to find all the unique elements naturally!"
   ]
  },
  {
   "cell_type": "code",
   "execution_count": null,
   "metadata": {},
   "outputs": [],
   "source": [
    "#Update word counts with Pandas - putting these words from the dict into a dataframe and then sorting the values by highest to lowest count.\n",
    "counts = pd.DataFrame.from_dict(common_words_dict, orient='index') #all values are scalar, so pass index in orient. It is not necessary to specify data type with dtype because there aren't mixed data types in this frame.\n",
    "counts = counts.sort_values(by=counts.columns[0], ascending=False) #ascending=False starts the count from highest to lowest quantity\n",
    "\n",
    "#Create bar graph\n",
    "counts_finished.head(25).plot(kind='barh')\n",
    "\n",
    "#Include descriptive titles and labels\n",
    "plt.title(\"25 Most Common Words in Shakespeare's Macbeth\")\n",
    "plt.xlabel('Words')\n",
    "plt.ylabel('Occurence Count')\n",
    "plt.show()"
   ]
  },
  {
   "cell_type": "code",
   "execution_count": null,
   "metadata": {},
   "outputs": [],
   "source": [
    "#You Can Get the Same Result With Lists\n",
    "word_counts = list(common_words_dict.items()) #the items method returns a list with dictionary keys and their values\n",
    "top_25 = sorted(word_counts, key = lambda x: x[1], reverse=True)[:25] #[:25] limits the top_25 to 25 items. The sorted fuction always allows you a 'key' argument where you put in the function for sorting. In this case, the key says to sort by the 2nd element of each key + value pair (index of 1). THis means that it is sorting by value of a key, so the # of occurrences of a word.\n",
    "#The lambda allows you to make in-line functions without doing the typical 'def' routine.\n",
    "y = [item[1] for item in top_25] #item[1] grabs the word counts (value) since the list is of key and value pairs like this ({'the': 25})\n",
    "X = np.arange(len(y)) #np.arange (NOT arrange) returns evenly spaced values within a given interval.\n",
    "plt.figure(figsize=(12,12))\n",
    "plt.bar(X , y)\n",
    "plt.xticks(X, [item[0] for item in top_25]) #item(0) grabs the dictionary keys. In this case, they are words in Shakespeare.\n",
    "plt.ylabel('Number of Occurences')\n",
    "plt.xlabel('Word')\n",
    "plt.title('Top 25 Words in Macbeth')"
   ]
  },
  {
   "cell_type": "markdown",
   "metadata": {},
   "source": [
    "### Level Up (Optional)\n",
    "This project should take you about an hour and a half to complete. If you're done much more quickly than that and are not behind in the course, feel free to deepen your knowledge by completing any or all of the following tasks until you run out of time:\n",
    "* Create a list of top characters by mentions of their names \n",
    "* Split the text by which character is talking\n",
    "* Create sub graphs of the most common words by character\n",
    "* Reduce the string to the text of the play itself. (Remove any initial notes, forward, introduction, appendix, etc.)\n",
    "* Come up with some other fun analyses of the text!"
   ]
  },
  {
   "cell_type": "markdown",
   "metadata": {},
   "source": [
    "## Summary\n",
    "Congratulations! You've got some extra practice combining various data types into useful programming patterns and done an intitial analysis of a classic text!"
   ]
  }
 ],
 "metadata": {
  "kernelspec": {
   "display_name": "learn_env",
   "language": "python",
   "name": "learn_env"
  },
  "language_info": {
   "codemirror_mode": {
    "name": "ipython",
    "version": 3
   },
   "file_extension": ".py",
   "mimetype": "text/x-python",
   "name": "python",
   "nbconvert_exporter": "python",
   "pygments_lexer": "ipython3",
   "version": "3.6.6"
  }
 },
 "nbformat": 4,
 "nbformat_minor": 2
}
